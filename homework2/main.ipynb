{
 "cells": [
  {
   "cell_type": "markdown",
   "metadata": {},
   "source": [
    "# The Witcher 3 Wild Hunt 爬蟲\n",
    "\n",
    "+ https://www.ign.com/wikis/the-witcher-3-wild-hunt/\n",
    "+ 煉金術(https://au.ign.com/wikis/the-witcher-3-wild-hunt/Alchemy)\n",
    "    + 藥水(https://au.ign.com/wikis/the-witcher-3-wild-hunt/Potions)\n",
    "    + 劍油(https://au.ign.com/wikis/the-witcher-3-wild-hunt/Oils)\n",
    "    + 炸彈(https://au.ign.com/wikis/the-witcher-3-wild-hunt/Bombs)"
   ]
  },
  {
   "cell_type": "code",
   "execution_count": null,
   "metadata": {},
   "outputs": [],
   "source": []
  }
 ],
 "metadata": {
  "kernelspec": {
   "display_name": "Python 3",
   "language": "python",
   "name": "python3"
  },
  "language_info": {
   "codemirror_mode": {
    "name": "ipython",
    "version": 3
   },
   "file_extension": ".py",
   "mimetype": "text/x-python",
   "name": "python",
   "nbconvert_exporter": "python",
   "pygments_lexer": "ipython3",
   "version": "3.6.8"
  }
 },
 "nbformat": 4,
 "nbformat_minor": 2
}
